{
 "cells": [
  {
   "cell_type": "code",
   "execution_count": 6,
   "metadata": {
    "collapsed": false,
    "scrolled": true
   },
   "outputs": [
    {
     "name": "stdout",
     "output_type": "stream",
     "text": [
      "CPU times: user 14.7 s, sys: 296 ms, total: 15 s\n",
      "Wall time: 18.3 s\n"
     ]
    }
   ],
   "source": [
    "from sklearn import linear_model, decomposition, datasets\n",
    "import pandas as pd\n",
    "import matplotlib.pyplot as plt\n",
    "import utils\n",
    "reload(utils)\n",
    "%matplotlib inline\n",
    "\n",
    "pd.set_option('display.mpl_style', 'default') # Make the graphs a bit prettier\n",
    "plt.rcParams['figure.figsize'] = (15, 5)\n",
    "\n",
    "pca = decomposition.PCA()\n",
    "\n",
    "%time X, _ = utils.load_data()\n",
    "\n",
    "#X = pca.fit_transform(X)"
   ]
  },
  {
   "cell_type": "code",
   "execution_count": 7,
   "metadata": {
    "collapsed": false
   },
   "outputs": [
    {
     "name": "stdout",
     "output_type": "stream",
     "text": [
      "(547200, 41)\n",
      "[  1.54570731e-01   7.15259367e-02   6.24323761e-02   5.47103417e-02\n",
      "   2.56357558e-02   1.48694108e-02   1.19151683e-02   1.03308765e-02\n",
      "   8.15760601e-03   7.39297668e-03   5.37638999e-03   5.17922162e-03\n",
      "   4.58736246e-03   4.31947477e-03   4.09412904e-03   3.94409283e-03\n",
      "   3.17646177e-03   2.31194764e-03   2.24617285e-03   1.61085924e-03\n",
      "   1.27554226e-03   9.50253853e-04   6.09536475e-04   5.42571780e-04\n",
      "   4.33751894e-04   2.28188236e-04   1.34846075e-04   1.12772598e-04\n",
      "   6.55448670e-05   5.56024175e-05   4.94097885e-05   4.55193278e-05\n",
      "   3.67348662e-05   2.63003498e-05   7.57763999e-06   3.36586751e-06\n",
      "   4.67539833e-07   5.99056233e-28   1.52527260e-32   3.36472632e-33\n",
      "   1.27482660e-34]\n",
      "(36,)\n"
     ]
    },
    {
     "data": {
      "image/png": "[encoded data removed]",
      "text/plain": [
       "<matplotlib.figure.Figure at 0x41ec790>"
      ]
     },
     "metadata": {},
     "output_type": "display_data"
    }
   ],
   "source": [
    "from sklearn import preprocessing\n",
    "\n",
    "#X = preprocessing.scale(X)\n",
    "X = preprocessing.MinMaxScaler().fit_transform(X)\n",
    "\n",
    "\n",
    "print X.shape\n",
    "pca.fit(X)\n",
    "plt.figure(1, figsize=(4, 3))\n",
    "plt.clf()\n",
    "plt.axes([.2, .2, .7, .7])\n",
    "plt.plot(pca.explained_variance_, linewidth=2)\n",
    "plt.axis('tight')\n",
    "plt.xlabel('n_components')\n",
    "plt.ylabel('explained_variance_')\n",
    "print pca.explained_variance_\n",
    "print pca.explained_variance_[pca.explained_variance_ > 1e-06].shape\n",
    "pca.n_components = 7"
   ]
  },
  {
   "cell_type": "code",
   "execution_count": 83,
   "metadata": {
    "collapsed": false
   },
   "outputs": [
    {
     "name": "stdout",
     "output_type": "stream",
     "text": [
      "[ 0.76145259  0.06475757  0.04720163  0.04168744  0.03104286  0.02122861\n",
      "  0.01675228  0.00863382  0.00434795  0.00289525]\n",
      "[  7.96026393e-01   7.42356632e-02   5.48943227e-02   3.64175032e-02\n",
      "   2.11567725e-02   1.23486837e-02   2.91290976e-03   1.02443359e-03\n",
      "   7.19725419e-04   2.63593048e-04]\n",
      "[ 0.73138995  0.06046636  0.0423588   0.03724045  0.03256414  0.02677117\n",
      "  0.02134692  0.01334219  0.01178258  0.02273746]\n",
      "==========\n",
      "[ 0.10261291  0.04129602  0.02933258  0.03634031  0.03051213  0.02594671\n",
      "  0.02683628  0.01955797  0.01456802  0.01800874]\n",
      "[ 0.09229309  0.04758938  0.03474045  0.03267789  0.02617161  0.02617595\n",
      "  0.0076093   0.00529168  0.00706787  0.00273609]\n",
      "[ 0.14561693  0.05051758  0.03238923  0.03447423  0.03512351  0.03331498\n",
      "  0.0289387   0.02139886  0.02224765  0.05339437]\n"
     ]
    }
   ],
   "source": [
    "reload(utils)\n",
    "a = utils.get_info_for_driver(\"200\")\n",
    "b = utils.get_info_for_driver(\"120\")\n",
    "c = utils.get_info_for_driver(\"221\")\n",
    "print a[:, -10:].mean(axis=0)\n",
    "print b[:, -10:].mean(axis=0)\n",
    "print c[:, -10:].mean(axis=0)\n",
    "print \"==========\"\n",
    "print a[:, -10:].std(axis=0)\n",
    "print b[:, -10:].std(axis=0)\n",
    "print c[:, -10:].std(axis=0)"
   ]
  },
  {
   "cell_type": "code",
   "execution_count": 84,
   "metadata": {
    "collapsed": false
   },
   "outputs": [
    {
     "data": {
      "text/plain": [
       "1.0"
      ]
     },
     "execution_count": 84,
     "metadata": {},
     "output_type": "execute_result"
    }
   ],
   "source": [
    "mm = a[:, -10:].mean(axis=0)\n",
    "mm.sum()"
   ]
  },
  {
   "cell_type": "code",
   "execution_count": null,
   "metadata": {
    "collapsed": true
   },
   "outputs": [],
   "source": []
  }
 ],
 "metadata": {
  "kernelspec": {
   "display_name": "Python 2",
   "language": "python",
   "name": "python2"
  },
  "language_info": {
   "codemirror_mode": {
    "name": "ipython",
    "version": 2
   },
   "file_extension": ".py",
   "mimetype": "text/x-python",
   "name": "python",
   "nbconvert_exporter": "python",
   "pygments_lexer": "ipython2",
   "version": "2.7.3"
  }
 },
 "nbformat": 4,
 "nbformat_minor": 0
}
