{
 "cells": [
  {
   "cell_type": "code",
   "execution_count": 28,
   "metadata": {
    "collapsed": false
   },
   "outputs": [],
   "source": [
    "__author__ = 'giulio'\n",
    "\n",
    "import sys\n",
    "import os\n",
    "import pandas as pd\n",
    "import numpy as np\n",
    "import math\n",
    "import matplotlib.pyplot as plt\n",
    "import utils\n",
    "%matplotlib inline\n",
    "\n",
    "pd.set_option('display.mpl_style', 'default') # Make the graphs a bit prettier\n",
    "plt.rcParams['figure.figsize'] = (15, 5)\n",
    "\n",
    "folders = os.listdir(\"drivers/\")\n",
    "drivers = filter(lambda idd: idd[0] != \".\", folders)"
   ]
  },
  {
   "cell_type": "code",
   "execution_count": 29,
   "metadata": {
    "collapsed": false
   },
   "outputs": [
    {
     "data": {
      "text/plain": [
       "<module 'utils' from 'utils.pyc'>"
      ]
     },
     "execution_count": 29,
     "metadata": {},
     "output_type": "execute_result"
    }
   ],
   "source": [
    "reload(utils)"
   ]
  },
  {
   "cell_type": "code",
   "execution_count": 30,
   "metadata": {
    "collapsed": false,
    "scrolled": true
   },
   "outputs": [
    {
     "name": "stdout",
     "output_type": "stream",
     "text": [
      "CPU times: user 28 ms, sys: 16 ms, total: 44 ms\n",
      "Wall time: 5.37 s\n",
      "2\n",
      "1001\n",
      "1000\n",
      "3\n",
      "1002\n",
      "1003\n"
     ]
    }
   ],
   "source": [
    "drivers = [\"2\", \"3\", \"1000\", \"1001\", \"1002\", \"1003\"]\n",
    "import os\n",
    "folders = os.listdir(\"drivers/\")\n",
    "#drivers = filter(lambda idd: idd[0] != \".\" and int(idd)<40, folders)\n",
    "%time feats = utils.extract_features_drivers(drivers)\n",
    "new_shape = (feats.shape[0]*feats.shape[1], feats.shape[2])\n",
    "feats = feats.reshape(new_shape)\n",
    "#print feats[0]\n",
    "\n"
   ]
  },
  {
   "cell_type": "code",
   "execution_count": 15,
   "metadata": {
    "collapsed": false
   },
   "outputs": [
    {
     "name": "stdout",
     "output_type": "stream",
     "text": [
      "0.00238663484487\n",
      "1.0\n"
     ]
    },
    {
     "data": {
      "text/plain": [
       "(array([   0,    0,    0,    0,    0, 1400,    0,    0,    0,    0]),\n",
       " array([-5., -4., -3., -2., -1.,  0.,  1.,  2.,  3.,  4.,  5.]))"
      ]
     },
     "execution_count": 15,
     "metadata": {},
     "output_type": "execute_result"
    }
   ],
   "source": [
    "ind = 14\n",
    "print feats[:, ind].min()\n",
    "print feats[:, ind].max()\n",
    "#print feats[:, ind].mean()\n",
    "\n",
    "np.histogram(feats[:, 31], bins=np.linspace(-5.0, 5.0, 11))\n"
   ]
  },
  {
   "cell_type": "code",
   "execution_count": 30,
   "metadata": {
    "collapsed": false
   },
   "outputs": [
    {
     "data": {
      "text/plain": [
       "6.283185307179586"
      ]
     },
     "execution_count": 30,
     "metadata": {},
     "output_type": "execute_result"
    }
   ],
   "source": [
    "np.pi*2"
   ]
  },
  {
   "cell_type": "code",
   "execution_count": 40,
   "metadata": {
    "collapsed": false
   },
   "outputs": [],
   "source": [
    "dr = \"subm_508e477562ad\"\n",
    "\n",
    "a = pd.read_csv(\"subm_508e477562ad/10.csv\").as_matrix()[:, 1]\n",
    "b = pd.read_csv(\"subm_508e477562ad/1001.csv\").as_matrix()[:, 1]\n",
    "c = pd.read_csv(\"subm_508e477562ad/1002.csv\").as_matrix()[:, 1]\n",
    "d = pd.read_csv(\"subm_508e477562ad/1003.csv\").as_matrix()[:, 1]"
   ]
  },
  {
   "cell_type": "code",
   "execution_count": 42,
   "metadata": {
    "collapsed": false
   },
   "outputs": [
    {
     "name": "stdout",
     "output_type": "stream",
     "text": [
      "(array([10, 10,  9,  7, 13,  8, 10, 16, 27, 89]), array([ 0. ,  0.1,  0.2,  0.3,  0.4,  0.5,  0.6,  0.7,  0.8,  0.9,  1. ]))\n",
      "(array([ 6, 17,  5,  8,  9,  7, 12, 23, 27, 85]), array([ 0. ,  0.1,  0.2,  0.3,  0.4,  0.5,  0.6,  0.7,  0.8,  0.9,  1. ]))\n",
      "(array([ 3, 13, 12,  9, 12, 14, 12, 11, 23, 90]), array([ 0. ,  0.1,  0.2,  0.3,  0.4,  0.5,  0.6,  0.7,  0.8,  0.9,  1. ]))\n",
      "(array([ 17,  12,  10,   2,   2,   7,   9,  15,  21, 104]), array([ 0. ,  0.1,  0.2,  0.3,  0.4,  0.5,  0.6,  0.7,  0.8,  0.9,  1. ]))\n"
     ]
    }
   ],
   "source": [
    "print np.histogram(a)\n",
    "print np.histogram(b)\n",
    "print np.histogram(c)\n",
    "print np.histogram(d)"
   ]
  },
  {
   "cell_type": "code",
   "execution_count": 37,
   "metadata": {
    "collapsed": false
   },
   "outputs": [
    {
     "data": {
      "text/plain": [
       "(array([ 2, 13, 14, 12,  7, 16, 17, 14, 26, 78]),\n",
       " array([ 0. ,  0.1,  0.2,  0.3,  0.4,  0.5,  0.6,  0.7,  0.8,  0.9,  1. ]))"
      ]
     },
     "execution_count": 37,
     "metadata": {},
     "output_type": "execute_result"
    }
   ],
   "source": []
  },
  {
   "cell_type": "code",
   "execution_count": null,
   "metadata": {
    "collapsed": true
   },
   "outputs": [],
   "source": []
  }
 ],
 "metadata": {
  "kernelspec": {
   "display_name": "Python 2",
   "language": "python",
   "name": "python2"
  },
  "language_info": {
   "codemirror_mode": {
    "name": "ipython",
    "version": 2
   },
   "file_extension": ".py",
   "mimetype": "text/x-python",
   "name": "python",
   "nbconvert_exporter": "python",
   "pygments_lexer": "ipython2",
   "version": "2.7.3"
  }
 },
 "nbformat": 4,
 "nbformat_minor": 0
}
